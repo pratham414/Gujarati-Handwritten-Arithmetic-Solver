{
  "nbformat": 4,
  "nbformat_minor": 0,
  "metadata": {
    "colab": {
      "provenance": []
    },
    "kernelspec": {
      "name": "python3",
      "display_name": "Python 3"
    },
    "language_info": {
      "name": "python"
    }
  },
  "cells": [
    {
      "cell_type": "code",
      "execution_count": 5,
      "metadata": {
        "colab": {
          "base_uri": "https://localhost:8080/",
          "height": 264
        },
        "id": "G4mbBpIjmG8L",
        "outputId": "c8527a1d-6188-47e9-f191-ce2bca3fa93e"
      },
      "outputs": [
        {
          "output_type": "stream",
          "name": "stdout",
          "text": [
            "Drive already mounted at /content/drive; to attempt to forcibly remount, call drive.mount(\"/content/drive\", force_remount=True).\n",
            "Detected Folders: ['0_zero', '1_one', '2_two', '3_three', '4_four', '5_five', '6_six', '7_seven', '8_eight', '9_nine', 'Untitled0.ipynb', 'add', 'div', 'mul', 'sub']\n",
            "✅ Successfully loaded 8056 images with 14 unique labels.\n"
          ]
        },
        {
          "output_type": "display_data",
          "data": {
            "text/plain": [
              "<Figure size 1000x500 with 5 Axes>"
            ],
            "image/png": "[encoded data removed]"
          },
          "metadata": {}
        }
      ],
      "source": [
        "from google.colab import drive\n",
        "import os\n",
        "import cv2\n",
        "import numpy as np\n",
        "import matplotlib.pyplot as plt\n",
        "\n",
        "# Mount Google Drive\n",
        "drive.mount('/content/drive')\n",
        "\n",
        "# Define dataset path\n",
        "dataset_path = \"/content/drive/MyDrive/GujaratiHandwrittenNumber\"\n",
        "\n",
        "# Label mapping for digits and operators (updated for correct Gujarati mathematical symbols)\n",
        "label_mapping = {'0_zero': 0, '1_one': 1, '2_two': 2, '3_three': 3, '4_four': 4,\n",
        "                 '5_five': 5, '6_six': 6, '7_seven': 7, '8_eight': 8, '9_nine': 9,\n",
        "                 'add': '+', 'sub': '-', 'mul': '×', 'div': '÷'}\n",
        "\n",
        "# Function to load images with proper error handling\n",
        "def load_images_from_folder(folder):\n",
        "    images = []\n",
        "    labels = []\n",
        "\n",
        "    label_list = sorted(os.listdir(folder))  # Get all subfolders\n",
        "\n",
        "    print(\"Detected Folders:\", label_list)  # Debugging step\n",
        "\n",
        "    for label in label_list:\n",
        "        label_path = os.path.join(folder, label)\n",
        "\n",
        "        if not os.path.isdir(label_path):  # Skip non-folder items\n",
        "            continue\n",
        "\n",
        "        if label not in label_mapping:  # Ensure label exists in mapping\n",
        "            print(f\"⚠ WARNING: Skipping unknown label '{label}'\")\n",
        "            continue\n",
        "\n",
        "        for img_file in os.listdir(label_path):\n",
        "            if img_file.startswith('.'):  # Skip system files\n",
        "                continue\n",
        "\n",
        "            img_path = os.path.join(label_path, img_file)\n",
        "            img = cv2.imread(img_path, cv2.IMREAD_GRAYSCALE)\n",
        "\n",
        "            if img is None:\n",
        "                print(f\"❌ Error loading image: {img_path}\")\n",
        "                continue\n",
        "\n",
        "            img = cv2.resize(img, (28, 28))  # Resize for CNN input\n",
        "            images.append(img)\n",
        "            labels.append(label_mapping[label])  # Correct label assignment\n",
        "\n",
        "    return np.array(images), np.array(labels)\n",
        "\n",
        "# Load dataset with verification\n",
        "X, y = load_images_from_folder(dataset_path)\n",
        "\n",
        "# Verify dataset size\n",
        "print(f\"✅ Successfully loaded {len(X)} images with {len(set(y))} unique labels.\")\n",
        "\n",
        "# Display sample images for verification\n",
        "plt.figure(figsize=(10,5))\n",
        "for i in range(5):\n",
        "    plt.subplot(1, 5, i+1)\n",
        "    plt.imshow(X[i], cmap='gray')\n",
        "    plt.title(f\"Label: {y[i]}\")\n",
        "    plt.axis('off')\n",
        "plt.show()"
      ]
    },
    {
      "cell_type": "code",
      "source": [
        "from sklearn.model_selection import train_test_split\n",
        "\n",
        "# Normalize images (convert pixel values to range 0-1)\n",
        "X = X / 255.0\n",
        "\n",
        "# Reshape images for CNN input (adding channel dimension)\n",
        "X = X.reshape(-1, 28, 28, 1)\n",
        "\n",
        "# Convert labels to numeric format for model training\n",
        "from tensorflow.keras.utils import to_categorical\n",
        "\n",
        "# Handling Gujarati operator labels (+, -, ×, ÷) as categorical values\n",
        "unique_labels = sorted(set(y))  # Ensure correct label ordering\n",
        "label_to_index = {label: idx for idx, label in enumerate(unique_labels)}\n",
        "y_numeric = np.array([label_to_index[label] for label in y])\n",
        "\n",
        "# Split dataset into training (80%) & testing (20%)\n",
        "X_train, X_test, y_train, y_test = train_test_split(X, y_numeric, test_size=0.2, random_state=42)\n",
        "\n",
        "print(f\"✅ Dataset prepared: {X_train.shape[0]} training samples, {X_test.shape[0]} test samples.\")"
      ],
      "metadata": {
        "colab": {
          "base_uri": "https://localhost:8080/"
        },
        "id": "9Co9VjclrxAk",
        "outputId": "914d2370-b658-4f6e-d7ec-b95a45efe085"
      },
      "execution_count": 6,
      "outputs": [
        {
          "output_type": "stream",
          "name": "stdout",
          "text": [
            "✅ Dataset prepared: 6444 training samples, 1612 test samples.\n"
          ]
        }
      ]
    },
    {
      "cell_type": "code",
      "source": [
        "from tensorflow.keras.preprocessing.image import ImageDataGenerator\n",
        "\n",
        "# Augmentation settings\n",
        "datagen = ImageDataGenerator(\n",
        "    rotation_range=10,\n",
        "    width_shift_range=0.1,\n",
        "    height_shift_range=0.1,\n",
        "    shear_range=0.1,\n",
        "    zoom_range=0.1,\n",
        "    horizontal_flip=False  # Digits & operators shouldn't be flipped\n",
        ")\n",
        "\n",
        "# Apply augmentation to training data\n",
        "datagen.fit(X_train)\n",
        "\n",
        "print(\"✅ Data augmentation applied for training.\")"
      ],
      "metadata": {
        "colab": {
          "base_uri": "https://localhost:8080/"
        },
        "id": "AnO5uP_Kr6W4",
        "outputId": "3db5d855-7254-41e2-efde-57f59164ddef"
      },
      "execution_count": 7,
      "outputs": [
        {
          "output_type": "stream",
          "name": "stdout",
          "text": [
            "✅ Data augmentation applied for training.\n"
          ]
        }
      ]
    },
    {
      "cell_type": "code",
      "source": [
        "import tensorflow as tf\n",
        "from tensorflow.keras.models import Sequential\n",
        "from tensorflow.keras.layers import Conv2D, MaxPooling2D, Flatten, Dense, Dropout, BatchNormalization\n",
        "\n",
        "# Define CNN architecture\n",
        "model = Sequential([\n",
        "    Conv2D(32, (3,3), activation='relu', input_shape=(28, 28, 1)),\n",
        "    BatchNormalization(),\n",
        "    MaxPooling2D(pool_size=(2,2)),\n",
        "\n",
        "    Conv2D(64, (3,3), activation='relu'),\n",
        "    BatchNormalization(),\n",
        "    MaxPooling2D(pool_size=(2,2)),\n",
        "\n",
        "    Conv2D(128, (3,3), activation='relu'),\n",
        "    BatchNormalization(),\n",
        "    MaxPooling2D(pool_size=(2,2)),\n",
        "\n",
        "    Flatten(),\n",
        "    Dense(256, activation='relu'),\n",
        "    Dropout(0.4),  # Helps prevent overfitting\n",
        "    Dense(128, activation='relu'),\n",
        "    Dropout(0.3),\n",
        "\n",
        "    Dense(len(unique_labels), activation='softmax')  # Output layer for multiple classes\n",
        "])\n",
        "\n",
        "# Compile CNN model\n",
        "model.compile(optimizer='adam', loss='sparse_categorical_crossentropy', metrics=['accuracy'])\n",
        "\n",
        "print(\"✅ CNN model created successfully!\")"
      ],
      "metadata": {
        "colab": {
          "base_uri": "https://localhost:8080/"
        },
        "id": "yopebwOor_vN",
        "outputId": "e4f46f4b-4362-4f55-8eae-e4939dd9e589"
      },
      "execution_count": 8,
      "outputs": [
        {
          "output_type": "stream",
          "name": "stdout",
          "text": [
            "✅ CNN model created successfully!\n"
          ]
        },
        {
          "output_type": "stream",
          "name": "stderr",
          "text": [
            "/usr/local/lib/python3.11/dist-packages/keras/src/layers/convolutional/base_conv.py:107: UserWarning: Do not pass an `input_shape`/`input_dim` argument to a layer. When using Sequential models, prefer using an `Input(shape)` object as the first layer in the model instead.\n",
            "  super().__init__(activity_regularizer=activity_regularizer, **kwargs)\n"
          ]
        }
      ]
    },
    {
      "cell_type": "code",
      "source": [
        "history = model.fit(datagen.flow(X_train, y_train, batch_size=32),\n",
        "                    epochs=20, validation_data=(X_test, y_test))\n",
        "\n",
        "print(\"✅ Model training completed!\")"
      ],
      "metadata": {
        "colab": {
          "base_uri": "https://localhost:8080/"
        },
        "id": "pQlipnejsEQj",
        "outputId": "0064e91a-6319-40af-b6ba-dd1903a3aa81"
      },
      "execution_count": 9,
      "outputs": [
        {
          "output_type": "stream",
          "name": "stdout",
          "text": [
            "Epoch 1/20\n"
          ]
        },
        {
          "output_type": "stream",
          "name": "stderr",
          "text": [
            "/usr/local/lib/python3.11/dist-packages/keras/src/trainers/data_adapters/py_dataset_adapter.py:121: UserWarning: Your `PyDataset` class should call `super().__init__(**kwargs)` in its constructor. `**kwargs` can include `workers`, `use_multiprocessing`, `max_queue_size`. Do not pass these arguments to `fit()`, as they will be ignored.\n",
            "  self._warn_if_super_not_called()\n"
          ]
        },
        {
          "output_type": "stream",
          "name": "stdout",
          "text": [
            "\u001b[1m202/202\u001b[0m \u001b[32m━━━━━━━━━━━━━━━━━━━━\u001b[0m\u001b[37m\u001b[0m \u001b[1m16s\u001b[0m 59ms/step - accuracy: 0.4633 - loss: 1.6958 - val_accuracy: 0.0831 - val_loss: 3.8671\n",
            "Epoch 2/20\n",
            "\u001b[1m202/202\u001b[0m \u001b[32m━━━━━━━━━━━━━━━━━━━━\u001b[0m\u001b[37m\u001b[0m \u001b[1m11s\u001b[0m 56ms/step - accuracy: 0.8483 - loss: 0.4864 - val_accuracy: 0.5608 - val_loss: 1.5334\n",
            "Epoch 3/20\n",
            "\u001b[1m202/202\u001b[0m \u001b[32m━━━━━━━━━━━━━━━━━━━━\u001b[0m\u001b[37m\u001b[0m \u001b[1m10s\u001b[0m 49ms/step - accuracy: 0.9012 - loss: 0.3244 - val_accuracy: 0.9529 - val_loss: 0.1446\n",
            "Epoch 4/20\n",
            "\u001b[1m202/202\u001b[0m \u001b[32m━━━━━━━━━━━━━━━━━━━━\u001b[0m\u001b[37m\u001b[0m \u001b[1m13s\u001b[0m 63ms/step - accuracy: 0.9156 - loss: 0.2616 - val_accuracy: 0.9739 - val_loss: 0.0904\n",
            "Epoch 5/20\n",
            "\u001b[1m202/202\u001b[0m \u001b[32m━━━━━━━━━━━━━━━━━━━━\u001b[0m\u001b[37m\u001b[0m \u001b[1m12s\u001b[0m 57ms/step - accuracy: 0.9363 - loss: 0.2067 - val_accuracy: 0.9280 - val_loss: 0.2139\n",
            "Epoch 6/20\n",
            "\u001b[1m202/202\u001b[0m \u001b[32m━━━━━━━━━━━━━━━━━━━━\u001b[0m\u001b[37m\u001b[0m \u001b[1m12s\u001b[0m 58ms/step - accuracy: 0.9310 - loss: 0.2264 - val_accuracy: 0.9826 - val_loss: 0.0550\n",
            "Epoch 7/20\n",
            "\u001b[1m202/202\u001b[0m \u001b[32m━━━━━━━━━━━━━━━━━━━━\u001b[0m\u001b[37m\u001b[0m \u001b[1m11s\u001b[0m 54ms/step - accuracy: 0.9380 - loss: 0.1954 - val_accuracy: 0.9603 - val_loss: 0.1388\n",
            "Epoch 8/20\n",
            "\u001b[1m202/202\u001b[0m \u001b[32m━━━━━━━━━━━━━━━━━━━━\u001b[0m\u001b[37m\u001b[0m \u001b[1m21s\u001b[0m 59ms/step - accuracy: 0.9449 - loss: 0.1929 - val_accuracy: 0.9833 - val_loss: 0.0559\n",
            "Epoch 9/20\n",
            "\u001b[1m202/202\u001b[0m \u001b[32m━━━━━━━━━━━━━━━━━━━━\u001b[0m\u001b[37m\u001b[0m \u001b[1m12s\u001b[0m 58ms/step - accuracy: 0.9504 - loss: 0.1666 - val_accuracy: 0.9529 - val_loss: 0.1395\n",
            "Epoch 10/20\n",
            "\u001b[1m202/202\u001b[0m \u001b[32m━━━━━━━━━━━━━━━━━━━━\u001b[0m\u001b[37m\u001b[0m \u001b[1m22s\u001b[0m 65ms/step - accuracy: 0.9493 - loss: 0.1654 - val_accuracy: 0.9826 - val_loss: 0.0714\n",
            "Epoch 11/20\n",
            "\u001b[1m202/202\u001b[0m \u001b[32m━━━━━━━━━━━━━━━━━━━━\u001b[0m\u001b[37m\u001b[0m \u001b[1m12s\u001b[0m 60ms/step - accuracy: 0.9583 - loss: 0.1451 - val_accuracy: 0.9473 - val_loss: 0.1432\n",
            "Epoch 12/20\n",
            "\u001b[1m202/202\u001b[0m \u001b[32m━━━━━━━━━━━━━━━━━━━━\u001b[0m\u001b[37m\u001b[0m \u001b[1m12s\u001b[0m 58ms/step - accuracy: 0.9516 - loss: 0.1632 - val_accuracy: 0.9591 - val_loss: 0.1153\n",
            "Epoch 13/20\n",
            "\u001b[1m202/202\u001b[0m \u001b[32m━━━━━━━━━━━━━━━━━━━━\u001b[0m\u001b[37m\u001b[0m \u001b[1m12s\u001b[0m 61ms/step - accuracy: 0.9613 - loss: 0.1322 - val_accuracy: 0.9845 - val_loss: 0.0601\n",
            "Epoch 14/20\n",
            "\u001b[1m202/202\u001b[0m \u001b[32m━━━━━━━━━━━━━━━━━━━━\u001b[0m\u001b[37m\u001b[0m \u001b[1m11s\u001b[0m 54ms/step - accuracy: 0.9566 - loss: 0.1525 - val_accuracy: 0.9721 - val_loss: 0.0780\n",
            "Epoch 15/20\n",
            "\u001b[1m202/202\u001b[0m \u001b[32m━━━━━━━━━━━━━━━━━━━━\u001b[0m\u001b[37m\u001b[0m \u001b[1m22s\u001b[0m 60ms/step - accuracy: 0.9613 - loss: 0.1374 - val_accuracy: 0.9739 - val_loss: 0.0784\n",
            "Epoch 16/20\n",
            "\u001b[1m202/202\u001b[0m \u001b[32m━━━━━━━━━━━━━━━━━━━━\u001b[0m\u001b[37m\u001b[0m \u001b[1m12s\u001b[0m 58ms/step - accuracy: 0.9602 - loss: 0.1272 - val_accuracy: 0.8914 - val_loss: 0.5160\n",
            "Epoch 17/20\n",
            "\u001b[1m202/202\u001b[0m \u001b[32m━━━━━━━━━━━━━━━━━━━━\u001b[0m\u001b[37m\u001b[0m \u001b[1m11s\u001b[0m 55ms/step - accuracy: 0.9634 - loss: 0.1121 - val_accuracy: 0.9808 - val_loss: 0.0822\n",
            "Epoch 18/20\n",
            "\u001b[1m202/202\u001b[0m \u001b[32m━━━━━━━━━━━━━━━━━━━━\u001b[0m\u001b[37m\u001b[0m \u001b[1m21s\u001b[0m 59ms/step - accuracy: 0.9594 - loss: 0.1369 - val_accuracy: 0.9218 - val_loss: 0.2572\n",
            "Epoch 19/20\n",
            "\u001b[1m202/202\u001b[0m \u001b[32m━━━━━━━━━━━━━━━━━━━━\u001b[0m\u001b[37m\u001b[0m \u001b[1m12s\u001b[0m 59ms/step - accuracy: 0.9656 - loss: 0.1180 - val_accuracy: 0.9808 - val_loss: 0.0655\n",
            "Epoch 20/20\n",
            "\u001b[1m202/202\u001b[0m \u001b[32m━━━━━━━━━━━━━━━━━━━━\u001b[0m\u001b[37m\u001b[0m \u001b[1m12s\u001b[0m 60ms/step - accuracy: 0.9641 - loss: 0.1287 - val_accuracy: 0.9498 - val_loss: 0.1386\n",
            "✅ Model training completed!\n"
          ]
        }
      ]
    },
    {
      "cell_type": "code",
      "source": [
        "# Evaluate model\n",
        "test_loss, test_acc = model.evaluate(X_test, y_test)\n",
        "print(f\"📊 Test Accuracy: {test_acc*100:.2f}%\")\n",
        "\n",
        "# Sample predictions\n",
        "predictions = model.predict(X_test[:5])\n",
        "\n",
        "plt.figure(figsize=(10,5))\n",
        "for i in range(5):\n",
        "    plt.subplot(1, 5, i+1)\n",
        "    plt.imshow(X_test[i].reshape(28, 28), cmap='gray')\n",
        "    plt.title(f\"Predicted: {unique_labels[np.argmax(predictions[i])]}\")\n",
        "    plt.axis('off')\n",
        "plt.show()"
      ],
      "metadata": {
        "colab": {
          "base_uri": "https://localhost:8080/",
          "height": 244
        },
        "id": "zz9SxauCtMmE",
        "outputId": "5b53b633-50c0-4be2-d6fc-8d0325b9e9bc"
      },
      "execution_count": 10,
      "outputs": [
        {
          "output_type": "stream",
          "name": "stdout",
          "text": [
            "\u001b[1m51/51\u001b[0m \u001b[32m━━━━━━━━━━━━━━━━━━━━\u001b[0m\u001b[37m\u001b[0m \u001b[1m1s\u001b[0m 14ms/step - accuracy: 0.9451 - loss: 0.1674\n",
            "📊 Test Accuracy: 94.98%\n",
            "\u001b[1m1/1\u001b[0m \u001b[32m━━━━━━━━━━━━━━━━━━━━\u001b[0m\u001b[37m\u001b[0m \u001b[1m1s\u001b[0m 685ms/step\n"
          ]
        },
        {
          "output_type": "display_data",
          "data": {
            "text/plain": [
              "<Figure size 1000x500 with 5 Axes>"
            ],
            "image/png": "[encoded data removed]"
          },
          "metadata": {}
        }
      ]
    },
    {
      "cell_type": "code",
      "source": [
        "# Save the trained model\n",
        "model.save(\"handwritten_cnn_model.h5\")\n",
        "print(\"✅ Model saved successfully!\")"
      ],
      "metadata": {
        "colab": {
          "base_uri": "https://localhost:8080/"
        },
        "id": "dK0LVh6xuPrf",
        "outputId": "e1cea3a4-9595-41a6-ce3b-eb9b206e7c80"
      },
      "execution_count": 14,
      "outputs": [
        {
          "output_type": "stream",
          "name": "stderr",
          "text": [
            "WARNING:absl:You are saving your model as an HDF5 file via `model.save()` or `keras.saving.save_model(model)`. This file format is considered legacy. We recommend using instead the native Keras format, e.g. `model.save('my_model.keras')` or `keras.saving.save_model(model, 'my_model.keras')`. \n"
          ]
        },
        {
          "output_type": "stream",
          "name": "stdout",
          "text": [
            "✅ Model saved successfully!\n"
          ]
        }
      ]
    },
    {
      "cell_type": "code",
      "source": [
        "import cv2\n",
        "import numpy as np\n",
        "import tensorflow as tf\n",
        "import matplotlib.pyplot as plt\n",
        "\n",
        "# Load trained CNN model\n",
        "model = tf.keras.models.load_model(\"handwritten_cnn_model.h5\")  # Ensure correct model path\n",
        "\n",
        "# **Evaluate Model Performance on Test Data**\n",
        "test_loss, test_acc = model.evaluate(X_test, y_test)\n",
        "print(f\"📊 Test Accuracy: {test_acc*100:.2f}%\")\n",
        "\n",
        "# **Evaluate Sample Test Data (First 5 Images)**\n",
        "predictions = model.predict(X_test[:5])\n",
        "\n",
        "plt.figure(figsize=(10, 5))\n",
        "for i in range(5):\n",
        "    plt.subplot(1, 5, i+1)\n",
        "    plt.imshow(X_test[i].reshape(28, 28), cmap='gray')\n",
        "    plt.title(f\"Predicted: {unique_labels[np.argmax(predictions[i])]}\")\n",
        "    plt.axis('off')\n",
        "plt.show()\n",
        "\n",
        "# **NEW FEATURE: Test a Manually Inserted Image**\n",
        "def predict_image(image_path):\n",
        "    # Load image\n",
        "    img = cv2.imread(image_path, cv2.IMREAD_GRAYSCALE)\n",
        "\n",
        "    # Preprocess image (resize & normalize)\n",
        "    img = cv2.resize(img, (28, 28))  # Ensure it matches model input size\n",
        "    img = img / 255.0  # Normalize pixel values\n",
        "    img = img.reshape(1, 28, 28, 1)  # Reshape for CNN\n",
        "\n",
        "    # Make prediction\n",
        "    prediction = model.predict(img)\n",
        "    predicted_label = np.argmax(prediction)\n",
        "\n",
        "    # Display result\n",
        "    plt.imshow(img.reshape(28, 28), cmap='gray')\n",
        "    plt.title(f\"Predicted Label: {unique_labels[predicted_label]}\")\n",
        "    plt.axis('off')\n",
        "    plt.show()\n",
        "\n",
        "    print(f\"✅ Predicted Class: {unique_labels[predicted_label]}\")\n",
        "\n",
        "# **Use the function to test an inserted image**\n",
        "image_path = \"/content/Screenshot 2025-06-05 171023.png\"  # Replace with actual image path\n",
        "predict_image(image_path)"
      ],
      "metadata": {
        "colab": {
          "base_uri": "https://localhost:8080/",
          "height": 727
        },
        "id": "EEgVVJqS2Brl",
        "outputId": "81d1e0f2-4eae-40a8-8026-cb92aacc063e"
      },
      "execution_count": 90,
      "outputs": [
        {
          "output_type": "stream",
          "name": "stderr",
          "text": [
            "WARNING:absl:Compiled the loaded model, but the compiled metrics have yet to be built. `model.compile_metrics` will be empty until you train or evaluate the model.\n"
          ]
        },
        {
          "output_type": "stream",
          "name": "stdout",
          "text": [
            "\u001b[1m51/51\u001b[0m \u001b[32m━━━━━━━━━━━━━━━━━━━━\u001b[0m\u001b[37m\u001b[0m \u001b[1m1s\u001b[0m 11ms/step - accuracy: 0.9451 - loss: 0.1674\n",
            "📊 Test Accuracy: 94.98%\n",
            "\u001b[1m1/1\u001b[0m \u001b[32m━━━━━━━━━━━━━━━━━━━━\u001b[0m\u001b[37m\u001b[0m \u001b[1m0s\u001b[0m 183ms/step\n"
          ]
        },
        {
          "output_type": "display_data",
          "data": {
            "text/plain": [
              "<Figure size 1000x500 with 5 Axes>"
            ],
            "image/png": "[encoded data removed]"
          },
          "metadata": {}
        },
        {
          "output_type": "stream",
          "name": "stdout",
          "text": [
            "\u001b[1m1/1\u001b[0m \u001b[32m━━━━━━━━━━━━━━━━━━━━\u001b[0m\u001b[37m\u001b[0m \u001b[1m0s\u001b[0m 190ms/step\n"
          ]
        },
        {
          "output_type": "display_data",
          "data": {
            "text/plain": [
              "<Figure size 640x480 with 1 Axes>"
            ],
            "image/png": "[encoded data removed]"
          },
          "metadata": {}
        },
        {
          "output_type": "stream",
          "name": "stdout",
          "text": [
            "✅ Predicted Class: ÷\n"
          ]
        }
      ]
    },
    {
      "cell_type": "code",
      "source": [
        "import cv2\n",
        "import numpy as np\n",
        "import matplotlib.pyplot as plt\n",
        "\n",
        "# Load handwritten arithmetic formula image\n",
        "image_path = \"/content/1x3.png\"  # Replace with actual path\n",
        "img = cv2.imread(image_path, cv2.IMREAD_GRAYSCALE)\n",
        "\n",
        "# Preprocess image (resize & apply thresholding for better contour detection)\n",
        "img = cv2.resize(img, (300, 100))  # Adjust dimensions as needed\n",
        "_, img_thresh = cv2.threshold(img, 120, 255, cv2.THRESH_BINARY_INV)\n",
        "\n",
        "# Find contours of digits and operators\n",
        "contours, _ = cv2.findContours(img_thresh, cv2.RETR_EXTERNAL, cv2.CHAIN_APPROX_SIMPLE)\n",
        "\n",
        "# Convert image to color for drawing bounding boxes\n",
        "img_color = cv2.cvtColor(img, cv2.COLOR_GRAY2BGR)\n",
        "\n",
        "# 🔥 Set a minimum contour area to filter small noise artifacts\n",
        "MIN_CONTOUR_AREA = 50  # Adjust based on image size\n",
        "valid_contours = [cnt for cnt in contours if cv2.contourArea(cnt) > MIN_CONTOUR_AREA]\n",
        "\n",
        "print(f\"✅ Filtered Contours: {len(valid_contours)}\")  # Debugging step\n",
        "\n",
        "# 🔥 Increase bounding box thickness with padding\n",
        "PADDING = 5  # Add padding to make boxes thicker and more noticeable\n",
        "\n",
        "# Draw bounding boxes around **filtered** contours\n",
        "for cnt in valid_contours:\n",
        "    x, y, w, h = cv2.boundingRect(cnt)\n",
        "\n",
        "    # Expand box size to make it thicker\n",
        "    x -= PADDING\n",
        "    y -= PADDING\n",
        "    w += 2 * PADDING\n",
        "    h += 2 * PADDING\n",
        "\n",
        "    cv2.rectangle(img_color, (x, y), (x+w, y+h), (0, 255, 0), 4)  # Thicker green box\n",
        "\n",
        "# Display final processed image\n",
        "plt.imshow(cv2.cvtColor(img_color, cv2.COLOR_BGR2RGB))\n",
        "plt.title(\"Thicker Bounding Boxes on Handwritten Formula\")\n",
        "plt.axis('off')\n",
        "plt.show()"
      ],
      "metadata": {
        "colab": {
          "base_uri": "https://localhost:8080/",
          "height": 241
        },
        "id": "_nYTbiJxxGoH",
        "outputId": "cd5121d1-d634-4157-88b3-b7ad7ac75eb0"
      },
      "execution_count": 91,
      "outputs": [
        {
          "output_type": "stream",
          "name": "stdout",
          "text": [
            "✅ Filtered Contours: 3\n"
          ]
        },
        {
          "output_type": "display_data",
          "data": {
            "text/plain": [
              "<Figure size 640x480 with 1 Axes>"
            ],
            "image/png": "[encoded data removed]"
          },
          "metadata": {}
        }
      ]
    },
    {
      "cell_type": "code",
      "source": [
        "# Detect contours for individual characters\n",
        "contours, _ = cv2.findContours(img_thresh, cv2.RETR_EXTERNAL, cv2.CHAIN_APPROX_SIMPLE)\n",
        "\n",
        "segments = []\n",
        "for cnt in contours:\n",
        "    x, y, w, h = cv2.boundingRect(cnt)\n",
        "    char_img = img_thresh[y:y+h, x:x+w]  # Crop each digit/operator\n",
        "    char_img = cv2.resize(char_img, (28, 28))  # Resize for CNN input\n",
        "    segments.append((char_img, x))  # Store with position for ordering\n",
        "\n",
        "# Sort segments based on X-position (left to right)\n",
        "segments = sorted(segments, key=lambda item: item[1])\n",
        "\n",
        "print(f\"✅ Extracted {len(segments)} characters from the formula.\")"
      ],
      "metadata": {
        "colab": {
          "base_uri": "https://localhost:8080/"
        },
        "id": "53vjTOGtt6bE",
        "outputId": "e394fd0c-7332-4b91-b05a-ab5c2f08e66e"
      },
      "execution_count": 92,
      "outputs": [
        {
          "output_type": "stream",
          "name": "stdout",
          "text": [
            "✅ Extracted 3 characters from the formula.\n"
          ]
        }
      ]
    },
    {
      "cell_type": "code",
      "source": [
        "import tensorflow as tf\n",
        "\n",
        "# Load trained CNN model\n",
        "model = tf.keras.models.load_model(\"handwritten_cnn_model.h5\")  # Update with actual model path\n",
        "\n",
        "# Recognized expression initialization\n",
        "expression = \"\"\n",
        "\n",
        "for char_img, _ in segments:\n",
        "    char_img = char_img.reshape(1, 28, 28, 1) / 255.0  # Normalize input\n",
        "    prediction = model.predict(char_img)\n",
        "    predicted_label = np.argmax(prediction)\n",
        "\n",
        "    # Mapping CNN labels to actual characters\n",
        "    label_mapping = {0: '0', 1: '1', 2: '2', 3: '3', 4: '4',\n",
        "                     5: '5', 6: '6', 7: '7', 8: '8', 9: '9',\n",
        "                     '+': '+', '-': '-', 'x': '*', '÷': '/'}\n",
        "\n",
        "    expression += label_mapping.get(predicted_label, \"?\")  # Build formula string\n",
        "\n",
        "print(f\"📝 Recognized Formula: {expression}\")"
      ],
      "metadata": {
        "colab": {
          "base_uri": "https://localhost:8080/"
        },
        "id": "1Im8WXsVt_O6",
        "outputId": "4010f52a-900d-4949-d5b8-9d01e5ebcfc7"
      },
      "execution_count": 93,
      "outputs": [
        {
          "output_type": "stream",
          "name": "stderr",
          "text": [
            "WARNING:absl:Compiled the loaded model, but the compiled metrics have yet to be built. `model.compile_metrics` will be empty until you train or evaluate the model.\n"
          ]
        },
        {
          "output_type": "stream",
          "name": "stdout",
          "text": [
            "\u001b[1m1/1\u001b[0m \u001b[32m━━━━━━━━━━━━━━━━━━━━\u001b[0m\u001b[37m\u001b[0m \u001b[1m0s\u001b[0m 214ms/step\n",
            "\u001b[1m1/1\u001b[0m \u001b[32m━━━━━━━━━━━━━━━━━━━━\u001b[0m\u001b[37m\u001b[0m \u001b[1m0s\u001b[0m 41ms/step\n",
            "\u001b[1m1/1\u001b[0m \u001b[32m━━━━━━━━━━━━━━━━━━━━\u001b[0m\u001b[37m\u001b[0m \u001b[1m0s\u001b[0m 46ms/step\n",
            "📝 Recognized Formula: 366\n"
          ]
        }
      ]
    },
    {
      "cell_type": "code",
      "source": [
        "try:\n",
        "    result = eval(expression)  # Python naturally follows BODMAS\n",
        "    print(f\"✅ Calculated Result in English: {result}\")\n",
        "except Exception as e:\n",
        "    print(f\"❌ Error evaluating expression: {e}\")"
      ],
      "metadata": {
        "colab": {
          "base_uri": "https://localhost:8080/"
        },
        "id": "SwckG9Xhvqjk",
        "outputId": "1f41c8cd-a113-4463-8333-a3e85be60a57"
      },
      "execution_count": 72,
      "outputs": [
        {
          "output_type": "stream",
          "name": "stdout",
          "text": [
            "✅ Calculated Result in English: 636\n"
          ]
        }
      ]
    },
    {
      "cell_type": "code",
      "source": [
        "# English to Gujarati number mapping\n",
        "english_to_gujarati = {'0': '૦', '1': '૧', '2': '૨', '3': '૩', '4': '૪',\n",
        "                        '5': '૫', '6': '૬', '7': '૭', '8': '૮', '9': '૯'}\n",
        "\n",
        "# Convert numeric result to Gujarati digits\n",
        "result_gujarati = \"\".join(english_to_gujarati.get(digit, digit) for digit in str(result))\n",
        "\n",
        "print(f\"📢 Calculated Result in Gujarati: {result_gujarati}\")"
      ],
      "metadata": {
        "colab": {
          "base_uri": "https://localhost:8080/"
        },
        "id": "0WYTZxvVx0B3",
        "outputId": "abd01e6f-6d3e-4392-cb9c-353fe79aa5dc"
      },
      "execution_count": 73,
      "outputs": [
        {
          "output_type": "stream",
          "name": "stdout",
          "text": [
            "📢 Calculated Result in Gujarati: ૬૩૬\n"
          ]
        }
      ]
    }
  ]
}